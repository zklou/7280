{
 "metadata": {
  "name": "testing"
 },
 "nbformat": 3,
 "nbformat_minor": 0,
 "worksheets": [
  {
   "cells": [
    {
     "cell_type": "code",
     "collapsed": false,
     "input": [
      "import powerlaw\n",
      "%load_ext rmagic "
     ],
     "language": "python",
     "metadata": {},
     "outputs": [
      {
       "output_type": "stream",
       "stream": "stdout",
       "text": [
        "During startup - Warning messages:\n",
        "1: package ‘methods’ was built under R version 2.15.1 \n",
        "2: package ‘datasets’ was built under R version 2.15.1 \n",
        "3: package ‘utils’ was built under R version 2.15.1 \n",
        "4: package ‘grDevices’ was built under R version 2.15.1 \n",
        "5: package ‘graphics’ was built under R version 2.15.1 \n",
        "6: package ‘stats’ was built under R version 2.15.1 \n"
       ]
      }
     ],
     "prompt_number": 1
    },
    {
     "cell_type": "code",
     "collapsed": false,
     "input": [
      "data = genfromtxt('words.txt')"
     ],
     "language": "python",
     "metadata": {},
     "outputs": [],
     "prompt_number": 14
    },
    {
     "cell_type": "code",
     "collapsed": false,
     "input": [
      "data = genfromtxt('words.txt')\n",
      "####\n",
      "fit = powerlaw.Fit(data, discrete=True, estimate_discrete=False)\n",
      "print fit.xmin\n",
      "print fit.alpha\n",
      "print fit.power_law._pdf_discrete_normalizer\n",
      "print fit.distribution_compare('power_law', 'lognormal')\n",
      "\n",
      "data = genfromtxt('words.txt')*10.0**2\n",
      "####\n",
      "fit = powerlaw.Fit(data, discrete=True, xmin=700.0, estimate_discrete=False)\n",
      "print fit.xmin\n",
      "print fit.alpha\n",
      "print fit.power_law._pdf_discrete_normalizer\n",
      "print fit.distribution_compare('power_law', 'lognormal')\n",
      "\n",
      "data = genfromtxt('words.txt')*10.0**1\n",
      "####\n",
      "fit = powerlaw.Fit(data, discrete=True, xmin=70.0, estimate_discrete=False)\n",
      "print fit.xmin\n",
      "print fit.alpha\n",
      "print fit.power_law._pdf_discrete_normalizer\n",
      "print fit.distribution_compare('power_law', 'lognormal')"
     ],
     "language": "python",
     "metadata": {},
     "outputs": [
      {
       "output_type": "stream",
       "stream": "stdout",
       "text": [
        "Calculating best minimal value for power law fit\n",
        "7.0"
       ]
      },
      {
       "output_type": "stream",
       "stream": "stdout",
       "text": [
        "\n",
        "1.95271772619\n",
        "5.67848426332"
       ]
      },
      {
       "output_type": "stream",
       "stream": "stdout",
       "text": [
        "\n",
        "(0.93878265949091055, 0.42433297291177607)"
       ]
      },
      {
       "output_type": "stream",
       "stream": "stdout",
       "text": [
        "\n",
        "700.0"
       ]
      },
      {
       "output_type": "stream",
       "stream": "stdout",
       "text": [
        "\n",
        "2.02133980333\n",
        "821.609142112"
       ]
      },
      {
       "output_type": "stream",
       "stream": "stdout",
       "text": [
        "\n",
        "(9.5167210183711806, 2.3670503345783636e-07)"
       ]
      },
      {
       "output_type": "stream",
       "stream": "stdout",
       "text": [
        "\n",
        "70.0"
       ]
      },
      {
       "output_type": "stream",
       "stream": "stdout",
       "text": [
        "\n",
        "2.01472443762\n",
        "75.069370313"
       ]
      },
      {
       "output_type": "stream",
       "stream": "stdout",
       "text": [
        "\n",
        "(6.5019676042704599, 0.00046635463846706013)"
       ]
      },
      {
       "output_type": "stream",
       "stream": "stdout",
       "text": [
        "\n"
       ]
      }
     ],
     "prompt_number": 48
    },
    {
     "cell_type": "code",
     "collapsed": false,
     "input": [
      "from scipy.special import zeta\n",
      "zeta(2.0, 1.0)"
     ],
     "language": "python",
     "metadata": {},
     "outputs": [
      {
       "output_type": "pyout",
       "prompt_number": 56,
       "text": [
        "1.6449340668482266"
       ]
      }
     ],
     "prompt_number": 56
    },
    {
     "cell_type": "code",
     "collapsed": false,
     "input": [
      "zeta(2.0, 10.0)/zeta(2.0, 1.0)"
     ],
     "language": "python",
     "metadata": {},
     "outputs": [
      {
       "output_type": "pyout",
       "prompt_number": 69,
       "text": [
        "0.063933465663574926"
       ]
      }
     ],
     "prompt_number": 69
    },
    {
     "cell_type": "code",
     "collapsed": false,
     "input": [
      "zeta(2.0, 1.0) - zeta(2.0, 10.0)"
     ],
     "language": "python",
     "metadata": {},
     "outputs": [
      {
       "output_type": "pyout",
       "prompt_number": 63,
       "text": [
        "1.539767731166541"
       ]
      }
     ],
     "prompt_number": 63
    },
    {
     "cell_type": "code",
     "collapsed": false,
     "input": [
      "x = 0\n",
      "for i in range(1, 10):\n",
      "    x += i**-2 \n",
      "print x"
     ],
     "language": "python",
     "metadata": {},
     "outputs": [
      {
       "output_type": "stream",
       "stream": "stdout",
       "text": [
        "1.53976773117\n"
       ]
      }
     ],
     "prompt_number": 66
    },
    {
     "cell_type": "code",
     "collapsed": false,
     "input": [
      "from numpy import log, sum\n",
      "data = genfromtxt('words.txt')\n",
      "factor = 100.0\n",
      "xmin = factor*7.0\n",
      "data = data*factor\n",
      "data = data[data>=xmin]\n",
      "n = len(data)\n",
      "print 1 + ( n / sum( log( data / ( xmin - 0.5) ) ))"
     ],
     "language": "python",
     "metadata": {},
     "outputs": [
      {
       "output_type": "stream",
       "stream": "stdout",
       "text": [
        "2.02138372655\n"
       ]
      }
     ],
     "prompt_number": 46
    },
    {
     "cell_type": "code",
     "collapsed": false,
     "input": [
      "%%prun\n",
      "data = genfromtxt('cities.txt')/10**3\n",
      "####\n",
      "import powerlaw\n",
      "results = powerlaw.Fit(data, discrete=False)\n",
      "results.xmin\n",
      "results.fixed_xmin\n",
      "results.alpha\n",
      "results.D\n",
      "len(results.xmins)"
     ],
     "language": "python",
     "metadata": {},
     "outputs": [
      {
       "output_type": "stream",
       "stream": "stdout",
       "text": [
        "Calculating best minimal value for power law fit\n"
       ]
      },
      {
       "output_type": "stream",
       "stream": "stdout",
       "text": [
        "\n"
       ]
      }
     ],
     "prompt_number": 4
    },
    {
     "cell_type": "code",
     "collapsed": false,
     "input": [
      "#data = genfromtxt('flares.txt')\n",
      "#discrete=False\n",
      "data = genfromtxt('quakes.txt')\n",
      "data = (10.0**data)/(10.0**3)\n",
      "discrete=False\n",
      "#data = genfromtxt('terrorism.txt')\n",
      "#discrete=True\n",
      "#data = genfromtxt('words.txt')\n",
      "#discrete=True"
     ],
     "language": "python",
     "metadata": {},
     "outputs": [],
     "prompt_number": 33
    },
    {
     "cell_type": "code",
     "collapsed": false,
     "input": [
      "fit = powerlaw.Fit(data, discrete=discrete, discrete_approximation='round')#15000)\n",
      "#data = fit.data\n",
      "xmin = fit.xmin\n",
      "print fit.xmin\n",
      "print fit.alpha"
     ],
     "language": "python",
     "metadata": {},
     "outputs": [
      {
       "output_type": "stream",
       "stream": "stdout",
       "text": [
        "Calculating best minimal value for power law fit\n",
        "10.0"
       ]
      },
      {
       "output_type": "stream",
       "stream": "stdout",
       "text": [
        "\n",
        "1.95240332155\n"
       ]
      }
     ],
     "prompt_number": 34
    },
    {
     "cell_type": "code",
     "collapsed": false,
     "input": [
      "fit.plot_ccdf(original_data=True)\n",
      "fit.D"
     ],
     "language": "python",
     "metadata": {},
     "outputs": [
      {
       "output_type": "pyout",
       "prompt_number": 44,
       "text": [
        "0.038097679127198414"
       ]
      },
      {
       "output_type": "display_data",
       "png": "[encoded data removed]"
      }
     ],
     "prompt_number": 44
    },
    {
     "cell_type": "code",
     "collapsed": false,
     "input": [
      "bins, CDF = fit.cdf()"
     ],
     "language": "python",
     "metadata": {},
     "outputs": [],
     "prompt_number": 47
    },
    {
     "cell_type": "code",
     "collapsed": false,
     "input": [
      "fit.n_tail"
     ],
     "language": "python",
     "metadata": {},
     "outputs": [
      {
       "output_type": "pyout",
       "prompt_number": 49,
       "text": [
        "2659.0"
       ]
      }
     ],
     "prompt_number": 49
    },
    {
     "cell_type": "code",
     "collapsed": false,
     "input": [
      "n = 38\n",
      "plot(fit.xmins[:n], fit.Ds[:n])\n",
      "plot(fit.xmins[:n], fit.sigmas[:n])\n",
      "plot((.794, .794), ylim())\n",
      "plot((10, 10), ylim())"
     ],
     "language": "python",
     "metadata": {},
     "outputs": [
      {
       "output_type": "pyout",
       "prompt_number": 39,
       "text": [
        "[<matplotlib.lines.Line2D at 0x82b75d0>]"
       ]
      },
      {
       "output_type": "display_data",
       "png": "[encoded data removed]"
      }
     ],
     "prompt_number": 39
    },
    {
     "cell_type": "code",
     "collapsed": false,
     "input": [
      "bins, CDF = fit2.cdf()"
     ],
     "language": "python",
     "metadata": {},
     "outputs": [],
     "prompt_number": 51
    },
    {
     "cell_type": "code",
     "collapsed": false,
     "input": [
      "len(bins)"
     ],
     "language": "python",
     "metadata": {},
     "outputs": [
      {
       "output_type": "pyout",
       "prompt_number": 52,
       "text": [
        "46"
       ]
      }
     ],
     "prompt_number": 52
    },
    {
     "cell_type": "code",
     "collapsed": false,
     "input": [
      "fit2 = powerlaw.Fit(data, xmin =.794)\n",
      "fit2.alpha\n",
      "fit2.sigma\n",
      "fit2.plot_ccdf()\n",
      "fit2.D"
     ],
     "language": "python",
     "metadata": {},
     "outputs": [
      {
       "output_type": "pyout",
       "prompt_number": 43,
       "text": [
        "0.092103799365054417"
       ]
      },
      {
       "output_type": "display_data",
       "png": "[encoded data removed]"
      }
     ],
     "prompt_number": 43
    },
    {
     "cell_type": "code",
     "collapsed": false,
     "input": [
      "d = genfromtxt('fires.txt')\n",
      "x = powerlaw.Fit(d, discrete=False)\n",
      "x.sigma"
     ],
     "language": "python",
     "metadata": {},
     "outputs": [
      {
       "output_type": "stream",
       "stream": "stdout",
       "text": [
        "Calculating best minimal value for power law fit\n"
       ]
      },
      {
       "output_type": "pyout",
       "prompt_number": 29,
       "text": [
        "0.050979497997097889"
       ]
      }
     ],
     "prompt_number": 29
    },
    {
     "cell_type": "code",
     "collapsed": false,
     "input": [
      "print fit.power_law.alpha\n",
      "print fit.distribution_compare('power_law', 'lognormal', normalized_ratio=True)\n",
      "print fit.distribution_compare('power_law', 'exponential', normalized_ratio=True)\n",
      "print fit.loglikelihood_ratio('power_law', 'stretched_exponential', normalized_ratio=True)\n",
      "#print fit.loglikelihood_ratio('power_law', 'truncated_power_law')"
     ],
     "language": "python",
     "metadata": {},
     "outputs": [
      {
       "output_type": "stream",
       "stream": "stdout",
       "text": [
        "1.63979125376\n",
        "(-7.1333027650672678, 9.7988686627588056e-13)"
       ]
      },
      {
       "output_type": "stream",
       "stream": "stdout",
       "text": [
        "\n",
        "(11.477220800562032, 1.7171157386991705e-30)"
       ]
      },
      {
       "output_type": "stream",
       "stream": "stdout",
       "text": [
        "\n",
        "(-7.1103191942301169, 1.1577488148942332e-12)"
       ]
      },
      {
       "output_type": "stream",
       "stream": "stdout",
       "text": [
        "\n"
       ]
      }
     ],
     "prompt_number": 10
    },
    {
     "cell_type": "code",
     "collapsed": false,
     "input": [
      "ax = fit.plot_ccdf()\n",
      "fit.power_law.plot_ccdf(fit.data, ax, color='r')\n",
      "fit.lognormal.plot_ccdf(fit.data, ax, color='g')\n",
      "print fit.distribution_compare('power_law', 'lognormal')\n"
     ],
     "language": "python",
     "metadata": {},
     "outputs": [
      {
       "output_type": "stream",
       "stream": "stdout",
       "text": [
        "(0.92801788116372386, 0.42584569440313169)\n"
       ]
      },
      {
       "output_type": "display_data",
       "png": "[encoded data removed]"
      }
     ],
     "prompt_number": 11
    },
    {
     "cell_type": "code",
     "collapsed": false,
     "input": [
      "a_param1 = fit.exponential.parameter1\n",
      "a_param2 = fit.exponential.parameter2\n",
      "a_like = sum(fit.exponential.loglikelihoods(fit.data))"
     ],
     "language": "python",
     "metadata": {},
     "outputs": [],
     "prompt_number": 12
    },
    {
     "cell_type": "code",
     "collapsed": false,
     "input": [
      "%%R -i data,xmin,a_param1 -o s_like\n",
      "source('pli-R-v0.0.3-2007-07-25/exp.R')\n",
      "#fit <- exp.fit(data, threshold=xmin)\n",
      "#s_param1 <- fit$rate\n",
      "s_like <- exp.loglike.tail(data,a_param1,xmin)"
     ],
     "language": "python",
     "metadata": {},
     "outputs": [],
     "prompt_number": 13
    },
    {
     "cell_type": "code",
     "collapsed": false,
     "input": [
      "%%R -i data,xmin,a_param1 -o s_param1,s_like\n",
      "source('pli-R-v0.0.3-2007-07-25/discexp.R')\n",
      "fit <- discexp.fit(data, threshold=xmin)\n",
      "data <- data[data>=xmin]\n",
      "s_param1 <- fit$lambda\n",
      "s_like <- discexp.loglike(data,a_param1,threshold=xmin)"
     ],
     "language": "python",
     "metadata": {},
     "outputs": [],
     "prompt_number": 14
    },
    {
     "cell_type": "code",
     "collapsed": false,
     "input": [
      "print a_param1, s_param1\n",
      "print round(s_like[0],4), round(a_like,4)\n",
      "print round(s_like[0],4)==round(a_like,4)"
     ],
     "language": "python",
     "metadata": {},
     "outputs": [
      {
       "output_type": "stream",
       "stream": "stdout",
       "text": [
        "0.0183978968538 [ 0.01838506]\n",
        "-14778.8513 -14778.8513\n",
        "True\n"
       ]
      }
     ],
     "prompt_number": 15
    },
    {
     "cell_type": "code",
     "collapsed": false,
     "input": [
      "a_param1 = fit.lognormal.parameter1\n",
      "a_param2 = fit.lognormal.parameter2\n",
      "a_like = sum(fit.lognormal.loglikelihoods(fit.data))"
     ],
     "language": "python",
     "metadata": {},
     "outputs": [],
     "prompt_number": "*"
    },
    {
     "cell_type": "code",
     "collapsed": false,
     "input": [
      "%%R -i data,xmin,a_param1,a_param2 -o s_param1,s_param2,s_like\n",
      "source('pli-R-v0.0.3-2007-07-25/lnorm.R')\n",
      "fit <- lnorm.fit(data, threshold=xmin)\n",
      "s_param1 <- fit$meanlog\n",
      "s_param2 <- fit$sdlog\n",
      "s_like <- lnorm.loglike.tail(data,a_param1,a_param2,xmin)"
     ],
     "language": "python",
     "metadata": {},
     "outputs": [],
     "prompt_number": "*"
    },
    {
     "cell_type": "code",
     "collapsed": false,
     "input": [
      "%%R -i data,xmin,a_param1,a_param2 -o s_param1,s_param2,s_like\n",
      "source('pli-R-v0.0.3-2007-07-25/disclnorm.R')\n",
      "fit <- fit.lnorm.disc(data, threshold=xmin)\n",
      "s_param1 <- fit$meanlog\n",
      "s_param2 <- fit$sdlog\n",
      "s_like <- lnorm.tail.disc.loglike(data,a_param1,a_param2,xmin)"
     ],
     "language": "python",
     "metadata": {},
     "outputs": [],
     "prompt_number": "*"
    },
    {
     "cell_type": "code",
     "collapsed": false,
     "input": [
      "print s_param1, s_param2, a_param1, a_param2\n",
      "print round(s_like[0],4), round(a_like,4)\n",
      "print round(s_like[0],4)==round(a_like,4)"
     ],
     "language": "python",
     "metadata": {},
     "outputs": [],
     "prompt_number": "*"
    },
    {
     "cell_type": "code",
     "collapsed": false,
     "input": [
      "d = fit.data\n",
      "xmin = fit.xmin"
     ],
     "language": "python",
     "metadata": {},
     "outputs": [],
     "prompt_number": "*"
    },
    {
     "cell_type": "code",
     "collapsed": false,
     "input": [
      "%%R -i d,a_param1,a_param2 -o s_cdf\n",
      "s_cdf = plnorm(d,a_param1, a_param2, lower.tail=FALSE, log.p=TRUE)"
     ],
     "language": "python",
     "metadata": {},
     "outputs": [],
     "prompt_number": "*"
    },
    {
     "cell_type": "code",
     "collapsed": false,
     "input": [
      "lognormal = powerlaw.Lognormal(xmin=xmin, parameters=(a_param1, a_param2))\n",
      "f = figure()\n",
      "ax = f.add_subplot(111)\n",
      "ax.scatter(d, s_cdf, color='r')\n",
      "ax.scatter(d, log((1-lognormal._cdf_base_function(d))), s=1)\n",
      "#ax.set_xlim(0, 2000)"
     ],
     "language": "python",
     "metadata": {},
     "outputs": [],
     "prompt_number": "*"
    },
    {
     "cell_type": "code",
     "collapsed": false,
     "input": [
      "%%R -i d,a_param1,a_param2 -o s_pdf\n",
      "s_pdf = dlnorm.tail.disc(d,a_param1, a_param2, threshold=xmin)"
     ],
     "language": "python",
     "metadata": {},
     "outputs": [],
     "prompt_number": "*"
    },
    {
     "cell_type": "code",
     "collapsed": false,
     "input": [
      "f = figure()\n",
      "ax = f.add_subplot(111)\n",
      "ax.set_yscale('log')\n",
      "ax.set_xscale('log')\n",
      "ax.scatter(d, s_pdf, color='r')\n",
      "ax.scatter(d, fit.lognormal.likelihoods(d), s=1)\n",
      "f = figure()\n",
      "ax = f.add_subplot(111)\n",
      "ax.plot(d, s_pdf-fit.lognormal.likelihoods(d))\n",
      "figure()\n",
      "hist(around(s_pdf-fit.lognormal.likelihoods(d), 5), normed=True)\n",
      "#ax.set_xlim(0, 2000)"
     ],
     "language": "python",
     "metadata": {},
     "outputs": [],
     "prompt_number": "*"
    }
   ],
   "metadata": {}
  }
 ]
}